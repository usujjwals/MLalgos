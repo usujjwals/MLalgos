{
 "cells": [
  {
   "cell_type": "markdown",
   "metadata": {},
   "source": [
    "## Combining Methods: Ensembles"
   ]
  },
  {
   "cell_type": "code",
   "execution_count": null,
   "metadata": {
    "tags": []
   },
   "outputs": [],
   "source": [
    "# Import required packages for this chapter\n",
    "from pathlib import Path\n",
    "\n",
    "import pandas as pd\n",
    "import numpy as np\n",
    "from sklearn import preprocessing\n",
    "from sklearn.linear_model import LogisticRegression\n",
    "from sklearn.tree import DecisionTreeClassifier, plot_tree\n",
    "from sklearn.naive_bayes import MultinomialNB\n",
    "from sklearn.metrics import accuracy_score\n",
    "from sklearn.ensemble import AdaBoostClassifier\n",
    "from sklearn.ensemble import BaggingClassifier\n",
    "from sklearn.ensemble import RandomForestClassifier\n",
    "from sklearn.neighbors import KNeighborsClassifier\n",
    "from sklearn.model_selection import train_test_split, GridSearchCV, KFold, cross_val_score\n",
    "from sklearn.preprocessing import StandardScaler\n",
    "from sklearn.pipeline import Pipeline\n",
    "from sklearn.metrics import f1_score, accuracy_score\n",
    "import matplotlib.pylab as plt\n",
    "\n",
    "from dmba import classificationSummary\n",
    "from dmba import liftChart, gainsChart\n",
    "\n",
    "%matplotlib inline"
   ]
  },
  {
   "cell_type": "code",
   "execution_count": 29,
   "metadata": {
    "tags": []
   },
   "outputs": [],
   "source": [
    "# Working directory:\n",
    "#\n",
    "# We assume that data are kept in the same directory as the notebook. If you keep your \n",
    "# data in a different folder, replace the argument of the `Path`\n",
    "DATA = Path('/Users/ujjwalsharma/207 class/Homework /ensemble')\n",
    "# and then load data using \n",
    "#\n",
    "# pd.read_csv(DATA / ‘filename.csv’)"
   ]
  },
  {
   "cell_type": "markdown",
   "metadata": {},
   "source": [
    "# eBay Auctions\n",
    "Using the eBay auction data (file _eBayAuctions.csv_) with variable Competitive as the outcome variable, partition the data into training (60%) and validation (40%)."
   ]
  },
  {
   "cell_type": "code",
   "execution_count": 30,
   "metadata": {
    "scrolled": true,
    "tags": []
   },
   "outputs": [
    {
     "data": {
      "text/html": [
       "<div>\n",
       "<style scoped>\n",
       "    .dataframe tbody tr th:only-of-type {\n",
       "        vertical-align: middle;\n",
       "    }\n",
       "\n",
       "    .dataframe tbody tr th {\n",
       "        vertical-align: top;\n",
       "    }\n",
       "\n",
       "    .dataframe thead th {\n",
       "        text-align: right;\n",
       "    }\n",
       "</style>\n",
       "<table border=\"1\" class=\"dataframe\">\n",
       "  <thead>\n",
       "    <tr style=\"text-align: right;\">\n",
       "      <th></th>\n",
       "      <th>Category</th>\n",
       "      <th>currency</th>\n",
       "      <th>sellerRating</th>\n",
       "      <th>Duration</th>\n",
       "      <th>endDay</th>\n",
       "      <th>ClosePrice</th>\n",
       "      <th>OpenPrice</th>\n",
       "      <th>Competitive?</th>\n",
       "    </tr>\n",
       "  </thead>\n",
       "  <tbody>\n",
       "    <tr>\n",
       "      <th>0</th>\n",
       "      <td>Music/Movie/Game</td>\n",
       "      <td>US</td>\n",
       "      <td>3249</td>\n",
       "      <td>5</td>\n",
       "      <td>Mon</td>\n",
       "      <td>0.01</td>\n",
       "      <td>0.01</td>\n",
       "      <td>0</td>\n",
       "    </tr>\n",
       "    <tr>\n",
       "      <th>1</th>\n",
       "      <td>Music/Movie/Game</td>\n",
       "      <td>US</td>\n",
       "      <td>3249</td>\n",
       "      <td>5</td>\n",
       "      <td>Mon</td>\n",
       "      <td>0.01</td>\n",
       "      <td>0.01</td>\n",
       "      <td>0</td>\n",
       "    </tr>\n",
       "    <tr>\n",
       "      <th>2</th>\n",
       "      <td>Music/Movie/Game</td>\n",
       "      <td>US</td>\n",
       "      <td>3249</td>\n",
       "      <td>5</td>\n",
       "      <td>Mon</td>\n",
       "      <td>0.01</td>\n",
       "      <td>0.01</td>\n",
       "      <td>0</td>\n",
       "    </tr>\n",
       "    <tr>\n",
       "      <th>3</th>\n",
       "      <td>Music/Movie/Game</td>\n",
       "      <td>US</td>\n",
       "      <td>3249</td>\n",
       "      <td>5</td>\n",
       "      <td>Mon</td>\n",
       "      <td>0.01</td>\n",
       "      <td>0.01</td>\n",
       "      <td>0</td>\n",
       "    </tr>\n",
       "    <tr>\n",
       "      <th>4</th>\n",
       "      <td>Music/Movie/Game</td>\n",
       "      <td>US</td>\n",
       "      <td>3249</td>\n",
       "      <td>5</td>\n",
       "      <td>Mon</td>\n",
       "      <td>0.01</td>\n",
       "      <td>0.01</td>\n",
       "      <td>0</td>\n",
       "    </tr>\n",
       "  </tbody>\n",
       "</table>\n",
       "</div>"
      ],
      "text/plain": [
       "           Category currency  sellerRating  Duration endDay  ClosePrice  \\\n",
       "0  Music/Movie/Game       US          3249         5    Mon        0.01   \n",
       "1  Music/Movie/Game       US          3249         5    Mon        0.01   \n",
       "2  Music/Movie/Game       US          3249         5    Mon        0.01   \n",
       "3  Music/Movie/Game       US          3249         5    Mon        0.01   \n",
       "4  Music/Movie/Game       US          3249         5    Mon        0.01   \n",
       "\n",
       "   OpenPrice  Competitive?  \n",
       "0       0.01             0  \n",
       "1       0.01             0  \n",
       "2       0.01             0  \n",
       "3       0.01             0  \n",
       "4       0.01             0  "
      ]
     },
     "execution_count": 30,
     "metadata": {},
     "output_type": "execute_result"
    }
   ],
   "source": [
    "ebay_df = pd.read_csv(DATA / 'eBayAuctions.csv')\n",
    "ebay_df.head()"
   ]
  },
  {
   "cell_type": "markdown",
   "metadata": {},
   "source": [
    "## (a)\n",
    "Tune hyperparameters to train a single Decision Tree using `DecisionTreeClassifier()`.\n",
    "Looking at the validation data, what is the overall accuracy? Produce the gains and lift charts for the validation data. What is the lift on the first decile? Also report F1-Score (especially useful if the classes are imbalanced) and Tree Depth (from the best model)"
   ]
  },
  {
   "cell_type": "code",
   "execution_count": 31,
   "metadata": {},
   "outputs": [
    {
     "name": "stdout",
     "output_type": "stream",
     "text": [
      "<class 'pandas.core.frame.DataFrame'>\n",
      "RangeIndex: 1972 entries, 0 to 1971\n",
      "Data columns (total 8 columns):\n",
      " #   Column        Non-Null Count  Dtype  \n",
      "---  ------        --------------  -----  \n",
      " 0   Category      1972 non-null   object \n",
      " 1   currency      1972 non-null   object \n",
      " 2   sellerRating  1972 non-null   int64  \n",
      " 3   Duration      1972 non-null   int64  \n",
      " 4   endDay        1972 non-null   object \n",
      " 5   ClosePrice    1972 non-null   float64\n",
      " 6   OpenPrice     1972 non-null   float64\n",
      " 7   Competitive?  1972 non-null   int64  \n",
      "dtypes: float64(2), int64(3), object(3)\n",
      "memory usage: 123.4+ KB\n"
     ]
    }
   ],
   "source": [
    "\n",
    "ebay_df.info()  "
   ]
  },
  {
   "cell_type": "code",
   "execution_count": 32,
   "metadata": {},
   "outputs": [],
   "source": [
    "X=pd.get_dummies(ebay_df.drop(columns=['ClosePrice','Competitive?']), drop_first=True)\n",
    "y=ebay_df['Competitive?']\n",
    " # spliting the data 40 percent for validation with a random state of 1 to reproduce the results\n",
    "train_X, valid_X, train_y, valid_y = train_test_split(\n",
    "    X, y, test_size=0.40, random_state=1)"
   ]
  },
  {
   "cell_type": "markdown",
   "metadata": {},
   "source": [
    "# had to get dummies because i was getting an error due to categories having a different values and deleted ClosingPrice because we are trying to predict competitiviness at the start of the auction. "
   ]
  },
  {
   "cell_type": "code",
   "execution_count": 36,
   "metadata": {},
   "outputs": [
    {
     "name": "stdout",
     "output_type": "stream",
     "text": [
      "Best Decision Tree with GridSearch: {'max_depth': 7, 'min_samples_leaf': 1, 'min_samples_split': 10}\n",
      "Confusion Matrix (Accuracy 0.7009)\n",
      "\n",
      "       Prediction\n",
      "Actual   0   1\n",
      "     0 262  91\n",
      "     1 145 291\n",
      "\n",
      "Validation accuracy for the best Decision Tree: 0.7009\n",
      "Validation F1 for the best Decision Tree: 0.7115\n"
     ]
    },
    {
     "data": {
      "image/png": "[encoded data removed]",
      "text/plain": [
       "<Figure size 800x600 with 1 Axes>"
      ]
     },
     "metadata": {},
     "output_type": "display_data"
    }
   ],
   "source": [
    "\n",
    "\n",
    "#  Grid-search a for DecisionTreeClassifier\n",
    "tree_grid = {\n",
    "    'max_depth': [3, 5, 7, 9, None],\n",
    "    'min_samples_split': [2, 10, 20],\n",
    "    'min_samples_leaf': [1, 5, 10],\n",
    "}\n",
    "# implementing grid search with 5-fold cross-validation\n",
    "tree_cv_search = GridSearchCV(\n",
    "    DecisionTreeClassifier(random_state=1),\n",
    "    tree_grid,\n",
    "    cv=5,\n",
    "    scoring='f1',  \n",
    "    n_jobs=-1,\n",
    ")\n",
    "tree_cv_search.fit(train_X, train_y)\n",
    "\n",
    "best_tree = tree_cv_search.best_estimator_\n",
    "print('Best Decision Tree with GridSearch:', tree_cv_search.best_params_)\n",
    "\n",
    "# Evaluate on validation\n",
    "tree_pred = best_tree.predict(valid_X)\n",
    "classificationSummary(valid_y, tree_pred)\n",
    "\n",
    "\n",
    "tree_accuracy = accuracy_score(valid_y, tree_pred)\n",
    "tree_f1_score  = f1_score(valid_y, tree_pred)\n",
    "print('\\nValidation accuracy for the best Decision Tree:', round(tree_accuracy, 4))\n",
    "print('Validation F1 for the best Decision Tree:', round(tree_f1_score, 4))\n",
    "\n",
    "# Decile lift chart for best decision tree\n",
    "df = pd.DataFrame({\n",
    "    'predicted': best_tree.predict_proba(valid_X)[:, 1],  # use probabilities for better ranking\n",
    "    'actual': valid_y.values,\n",
    "})\n",
    "df = df.sort_values(by=['predicted'], ascending=False)\n",
    "plt.figure(figsize=(8,6))\n",
    "liftChart(df['actual'], labelBars=False)\n",
    "plt.title('Decile lift chart – Decision Tree')\n",
    "plt.show()\n",
    "\n",
    "# Save for later comparison\n",
    "metrics_tree = {'accuracy': tree_accuracy, 'f1': tree_f1_score, 'depth': best_tree.get_depth()}"
   ]
  },
  {
   "cell_type": "markdown",
   "metadata": {},
   "source": [
    "### looking at the validation data the accuracy score is 70.09 percent. And the first decile showed in the chart is around 1.35."
   ]
  },
  {
   "cell_type": "markdown",
   "metadata": {},
   "source": [
    "## (b)\n",
    "Fit a bagged tree by tuning hyperparameters. For the validation data, what is the overall accuracy and F1-score? Produce the gains and lift charts for the validation data. What is the lift on the first decile? Briefly discuss how the performance of the Bagging model compares to the single optimized tree. Which model shows better generalization, and what does this suggest about the variance of the single tree model?"
   ]
  },
  {
   "cell_type": "code",
   "execution_count": 38,
   "metadata": {},
   "outputs": [
    {
     "name": "stdout",
     "output_type": "stream",
     "text": [
      "Best Bagging parameters: {'bootstrap': True, 'max_features': 0.5, 'max_samples': 1.0, 'n_estimators': 300}\n",
      "Confusion Matrix (Accuracy 0.7313)\n",
      "\n",
      "       Prediction\n",
      "Actual   0   1\n",
      "     0 262  91\n",
      "     1 121 315\n",
      "\n",
      "Validation accuracy using best Bagging: 0.7313\n",
      "Validation F1 using best Bagging: 0.7482\n",
      "Accuracy improvement Bagging vs. single tree: 0.0304\n"
     ]
    },
    {
     "data": {
      "image/png": "[encoded data removed]",
      "text/plain": [
       "<Figure size 800x600 with 1 Axes>"
      ]
     },
     "metadata": {},
     "output_type": "display_data"
    }
   ],
   "source": [
    "\n",
    "# creating a grid for bagging classifer \n",
    "bagging_parameter_grid = {\n",
    "    'n_estimators': [50, 100, 300],\n",
    "    'max_samples': [0.5, 0.7, 1.0],\n",
    "    'max_features': [0.5, 1.0],\n",
    "    'bootstrap': [True],\n",
    "}\n",
    "# implementing grid search with 5-fold cross-validation for bagging classifier\n",
    "bagging_cv = GridSearchCV(\n",
    "    BaggingClassifier(random_state=1),  \n",
    "    bagging_parameter_grid,\n",
    "    cv=5,\n",
    "    scoring='f1',\n",
    "    n_jobs=-1\n",
    ")\n",
    "bagging_cv.fit(train_X, train_y) # fitting the model\n",
    "\n",
    "best_bagging_method = bagging_cv.best_estimator_\n",
    "print('Best Bagging parameters:', bagging_cv.best_params_)\n",
    "\n",
    "bag_pred = best_bagging_method.predict(valid_X)\n",
    "classificationSummary(valid_y, bag_pred) # evaluating the model\n",
    "\n",
    "# Evaluate on validation\n",
    "bagging_accuracy = accuracy_score(valid_y, bag_pred)\n",
    "bagging_f1_score  = f1_score(valid_y, bag_pred)\n",
    "\n",
    "# printing the results\n",
    "print('\\nValidation accuracy using best Bagging:', round(bagging_accuracy, 4)) \n",
    "print('Validation F1 using best Bagging:', round(bagging_f1_score, 4))\n",
    "print('Accuracy improvement Bagging vs. single tree:', round(bagging_accuracy - metrics_tree['accuracy'], 4))\n",
    "\n",
    "# Decile lift chart\n",
    "df = pd.DataFrame({\n",
    "    'predicted': best_bagging_method.predict_proba(valid_X)[:, 1],\n",
    "    'actual': valid_y.values,\n",
    "}).sort_values(by='predicted', ascending=False)\n",
    "\n",
    "plt.figure(figsize=(8,6))\n",
    "liftChart(df['actual'], labelBars=False)\n",
    "plt.title('Decile lift chart – Bagging')\n",
    "plt.show()\n",
    "\n",
    "metrics_bag = {'accuracy': bagging_accuracy, 'f1': bagging_f1_score}\n"
   ]
  },
  {
   "cell_type": "markdown",
   "metadata": {},
   "source": [
    "#### the first decile is over 1.6 which is already better than the decision tree which was around 1.35. This shows the best bagging model already predicted 25 percent better than best decision tree"
   ]
  },
  {
   "cell_type": "markdown",
   "metadata": {},
   "source": [
    "#### if we compare the overall accuracy score bagging also did a better job and showed a 3.04 percent increase in accuracy, which is pretty significant and f1 score also improved by almost same amount."
   ]
  },
  {
   "cell_type": "markdown",
   "metadata": {},
   "source": [
    "#### Because its highest response/lift falls in deciles 2-3 rather than the top (first) decile, the single decision tree is not ranking well, indicating either poor calibration or weak ordering. The Bagging Classifier, on the other hand, exhibits the anticipated monotonic pattern: stronger ranking performance is reflected by the best response/lift being concentrated in the first decile and decreasing across subsequent deciles."
   ]
  },
  {
   "cell_type": "markdown",
   "metadata": {},
   "source": [
    "## (c)\n",
    "Fit a random forest (use `RandomForestClassifier`) by tuning hyperparameters. Produce the gains and lift charts for the validation data. Compare the bagged tree to the random forest in terms of validation accuracy and lift on first decile. How are the two methods conceptually different? Extract and plot the feature importances from the final $\\mathbf{best\\_random\\_forest}$ model. List the top 5 predictors of auction competitiveness."
   ]
  },
  {
   "cell_type": "code",
   "execution_count": 39,
   "metadata": {},
   "outputs": [
    {
     "name": "stdout",
     "output_type": "stream",
     "text": [
      "Best RF params: {'max_depth': None, 'max_features': 'log2', 'min_samples_leaf': 5, 'min_samples_split': 2, 'n_estimators': 200}\n",
      "Confusion Matrix (Accuracy 0.7351)\n",
      "\n",
      "       Prediction\n",
      "Actual   0   1\n",
      "     0 255  98\n",
      "     1 111 325\n",
      "\n",
      "Validation accuracy using Random Forest: 0.7351\n",
      "Validation F1 using Random Forest: 0.7567\n",
      "\n",
      "Top 5 predictors: \n",
      "OpenPrice                 0.346951\n",
      "sellerRating              0.249753\n",
      "endDay_Mon                0.057350\n",
      "Duration                  0.054032\n",
      "Category_Health/Beauty    0.036904\n",
      "dtype: float64\n"
     ]
    },
    {
     "data": {
      "image/png": "[encoded data removed]",
      "text/plain": [
       "<Figure size 640x480 with 1 Axes>"
      ]
     },
     "metadata": {},
     "output_type": "display_data"
    },
    {
     "data": {
      "image/png": "[encoded data removed]",
      "text/plain": [
       "<Figure size 800x600 with 1 Axes>"
      ]
     },
     "metadata": {},
     "output_type": "display_data"
    }
   ],
   "source": [
    "# Grid-search for RandomForestClassifier\n",
    "\n",
    "random_param_grid = {\n",
    "    'n_estimators': [200, 500],\n",
    "    'max_depth': [None, 10, 20],\n",
    "    'min_samples_split': [2, 10],\n",
    "    'min_samples_leaf': [1, 5],\n",
    "    'max_features': ['sqrt', 'log2'],\n",
    "}\n",
    "# implementing grid search with 5-fold cross-validation for random forest classifier\n",
    "random_forest_cv = GridSearchCV(\n",
    "    RandomForestClassifier(random_state=1),\n",
    "    random_param_grid,\n",
    "    cv=5,\n",
    "    scoring='f1',\n",
    "    n_jobs=-1\n",
    ")\n",
    "random_forest_cv.fit(train_X, train_y) # fitting the model\n",
    "\n",
    "# getting the best estimator\n",
    "best_random_forest = random_forest_cv.best_estimator_\n",
    "print('Best RF params:', random_forest_cv.best_params_)\n",
    "\n",
    "# Evaluate on validation\n",
    "random_forest_pred = best_random_forest.predict(valid_X)\n",
    "classificationSummary(valid_y, random_forest_pred)\n",
    "\n",
    "# Evaluate on validation\n",
    "random_forest_acc = accuracy_score(valid_y, random_forest_pred)\n",
    "random_forest_f1  = f1_score(valid_y, random_forest_pred)\n",
    "print('\\nValidation accuracy using Random Forest:', round(random_forest_acc, 4))\n",
    "print('Validation F1 using Random Forest:', round(random_forest_f1, 4))\n",
    "\n",
    "# Top 5 feature importances converting to series \n",
    "top5features = pd.Series(best_random_forest.feature_importances_, index=train_X.columns)\n",
    "top5_sorted = top5features.sort_values(ascending=False).head(5)\n",
    "print('\\nTop 5 predictors: ')\n",
    "print(top5_sorted)\n",
    "\n",
    "# bar plot to show feature importance\n",
    "top5_sorted.sort_values().plot(kind='barh')\n",
    "plt.title('Top 5 RF Feature Importances')\n",
    "plt.xlabel('Importance')\n",
    "plt.ylabel('Feature')\n",
    "plt.show()\n",
    "\n",
    "# Decile lift chart\n",
    "df = pd.DataFrame({\n",
    "    'predicted': best_random_forest.predict_proba(valid_X)[:, 1],\n",
    "    'actual': valid_y.values,\n",
    "}).sort_values(by='predicted', ascending=False)\n",
    "\n",
    "plt.figure(figsize=(8,6))\n",
    "liftChart(df['actual'], labelBars=False)\n",
    "plt.title('Decile lift chart – Random Forest')\n",
    "plt.show()\n",
    "\n",
    "metrics_rf = {'accuracy': random_forest_acc, 'f1': random_forest_f1, 'top5': top5.to_dict()}\n"
   ]
  },
  {
   "cell_type": "markdown",
   "metadata": {},
   "source": [
    "#### Higher accuracy and F1 were attained by Random Forest when compared to bagging of decision trees, and its decile analysis validates superior ranking: Random Forest concentrates the most positives in the top (1st) decile and maintains stronger lift through deciles 2–3, while bagging's lift decreases beginning in deciles 2–3. This suggests that Random Forest more efficiently arranges cases, catching more true positives in the earliest deciles."
   ]
  },
  {
   "cell_type": "markdown",
   "metadata": {},
   "source": [
    "**Bagging (of decision trees): Bagging averages the predictions of numerous decision trees after training them on various bootstrap samples of the training data (or using a majority vote). The trees tend to be correlated because each split in each tree can take into account every feature; however, ensembling still significantly reduces variance without significantly altering bias. It is particularly useful when a single tree overfits but there are few and powerful key predictors. The idea is to use aggregation for stability and randomness from rows only (the bootstrap).**\n",
    "\n",
    "**Random Forest: A random forest is bagging plus additional randomness at each split: each split takes into account a random subset rather than all features. At the expense of a slight increase in bias, this \"random subspace\" decorrelates trees more than simple bagging, producing a stronger variance reduction and generally better ranking/accuracy. Conceptually, aggregation for robustness and randomness from rows and columns.**"
   ]
  },
  {
   "cell_type": "markdown",
   "metadata": {},
   "source": [
    "## (d)\n",
    "Write a brief summary of your findings by answering the following questions:\n",
    "\n",
    "Compare the best performance metrics (Accuracy, F1-Score) across the three models (Single Tree, Bagging, Random Forest).\n",
    "\n",
    "Based on your results, which model is best suited for classifying auction competitiveness, and why? \n",
    "\n",
    "Using your Random Forest Feature Importance results, provide one actionable insight for an eBay seller based on the features that most predict a competitive auction."
   ]
  },
  {
   "cell_type": "markdown",
   "metadata": {},
   "source": [
    "**Comparing the Performance using validation**\n",
    "\n",
    "Single Decision Tree: Accuracy = 0.7009, F1-Score = 0.7115\n",
    "\n",
    "Bagging of Decision Trees: Accuracy = 0.7313, F1-Score = 0.7482\n",
    "\n",
    "Random Forest: Accuracy = 0.7351, F1-Score = 0.7567\n",
    "\n",
    "If we compare the accuracy and F1 score random forest shows better performance overall because it scored the best because it was able to predict better than both the other models.\n",
    "\n",
    "\n",
    "**Best model and why**\n",
    "\n",
    "Random Forest is the best overall. It achieves the highest F1-Score (0.7567) and the top Accuracy (0.7351) among the three. The ensemble reduces variance compared to a single tree and captures more signal than plain bagging in your split. Also, if we compare decile lift chart Random Forest concentrates the most positives in the top (1st) decile and maintains stronger lift through deciles 2–3, while bagging's lift decreases beginning in deciles 2–3. This suggests that Random Forest more efficiently arranges cases, catching more true positives in the earliest deciles.\n",
    "\n",
    "**One actionable seller insight from Random Forest feature importance**\n",
    "\n",
    "The top feature is OpenPrice and it is exteremly important.\n",
    "Start the auction with a lower opening price (within a reasonable range for the item). This tends to attract more early bids, increases bidder activity, and raises the likelihood of a competitive auction."
   ]
  },
  {
   "cell_type": "markdown",
   "metadata": {},
   "source": []
  }
 ],
 "metadata": {
  "kernelspec": {
   "display_name": "base",
   "language": "python",
   "name": "python3"
  },
  "language_info": {
   "codemirror_mode": {
    "name": "ipython",
    "version": 3
   },
   "file_extension": ".py",
   "mimetype": "text/x-python",
   "name": "python",
   "nbconvert_exporter": "python",
   "pygments_lexer": "ipython3",
   "version": "3.12.2"
  }
 },
 "nbformat": 4,
 "nbformat_minor": 4
}
